{
 "cells": [
  {
   "cell_type": "markdown",
   "metadata": {},
   "source": [
    "# Modeling\n",
    "- Computing these models through Google Cloud Platform's Compute Engine **with GPUs** is highly recommended for efficiency purposes.\n",
    "- A simple model (T1 Model) training on 250 3D-images, validating on 84 3D-images, with two Conv3D layers and one Dense layer, and 3 epochs took about 40 hours to run on my personal laptop.\n",
    "- Introducing a second MRI type to the model (T1 & T2 Model) training on 501 3D-images, validating on 167 3D-images with two Conv3D layers and one Dense layer, and 3 epochs took about 6.5 hours using GCP's VM instance with 4CPUs and 256GB of RAM."
   ]
  },
  {
   "cell_type": "markdown",
   "metadata": {},
   "source": [
    "## Contents\n",
    "- [Imports](#Imports)\n",
    "- Models\n",
    "    - [Model w/ T1 MRI](#T1-MRI)\n",
    "    - [Model w/ T1, T2 MRI](#T1-&-T2-MRI)\n",
    "    - [Model w/ T1, T1ce, T2, FLAIR MRI Types](#T1,-T1ce,-T2,-FLAIR-MRI-Types)"
   ]
  },
  {
   "cell_type": "markdown",
   "metadata": {},
   "source": [
    "## Imports"
   ]
  },
  {
   "cell_type": "code",
   "execution_count": 1,
   "metadata": {},
   "outputs": [],
   "source": [
    "import os\n",
    "import pandas as pd\n",
    "import numpy as np\n",
    "import nibabel as nib\n",
    "import matplotlib.pyplot as plt\n",
    "\n",
    "from sklearn.model_selection import train_test_split\n",
    "\n",
    "from tensorflow.python.keras.models import Sequential\n",
    "from tensorflow.python.keras import utils\n",
    "from tensorflow.python.keras.layers import Dense, Dropout, Flatten, Activation, Conv3D, MaxPooling3D"
   ]
  },
  {
   "cell_type": "markdown",
   "metadata": {},
   "source": [
    "## T1 MRI"
   ]
  },
  {
   "cell_type": "code",
   "execution_count": 2,
   "metadata": {},
   "outputs": [
    {
     "name": "stdout",
     "output_type": "stream",
     "text": [
      "100 out of 1032\n",
      "200 out of 1032\n",
      "300 out of 1032\n",
      "400 out of 1032\n",
      "500 out of 1032\n",
      "600 out of 1032\n",
      "700 out of 1032\n",
      "800 out of 1032\n",
      "900 out of 1032\n",
      "1000 out of 1032\n",
      "1032 out of 1032\n"
     ]
    }
   ],
   "source": [
    "# Bringing in only arrays of HGG T1 MRI images\n",
    "\n",
    "t1_hgg = []\n",
    "counter = 0\n",
    "\n",
    "for file in os.listdir('./data/bet_processed/'):\n",
    "    counter += 1\n",
    "    if counter%100 == 0 or counter == len(os.listdir('./data/bet_processed/'))-1:\n",
    "        print(f\"{counter} out of {len(os.listdir('./data/bet_processed/'))-1}\")\n",
    "              \n",
    "    if file.endswith('t1_n4_bet.nii.gz'):\n",
    "        file_path = './data/bet_processed/' + file\n",
    "        img = nib.load(file_path)\n",
    "        array_flat = img.get_data() / 255\n",
    "        t1_hgg.append(array_flat)"
   ]
  },
  {
   "cell_type": "code",
   "execution_count": 3,
   "metadata": {},
   "outputs": [
    {
     "name": "stdout",
     "output_type": "stream",
     "text": [
      "100 out of 303\n",
      "200 out of 303\n",
      "300 out of 303\n",
      "303 out of 303\n"
     ]
    }
   ],
   "source": [
    "# Bringing in only arrays of LGG T1 MRI Images\n",
    "\n",
    "t1_lgg = []\n",
    "counter = 0\n",
    "\n",
    "for file in os.listdir('./data/lgg_bet_processed/'):\n",
    "    counter += 1\n",
    "    if counter%100 == 0 or counter == len(os.listdir('./data/lgg_bet_processed/'))-1:\n",
    "        print(f\"{counter} out of {len(os.listdir('./data/lgg_bet_processed/'))-1}\")\n",
    "              \n",
    "    if file.endswith('t1_n4_bet.nii.gz'):\n",
    "        file_path = './data/lgg_bet_processed/' + file\n",
    "        img = nib.load(file_path)\n",
    "        array_flat = img.get_data() / 255\n",
    "        t1_lgg.append(array_flat)"
   ]
  },
  {
   "cell_type": "code",
   "execution_count": 4,
   "metadata": {},
   "outputs": [],
   "source": [
    "# Setting X and y for neural network\n",
    "\n",
    "t1_hgg_y = np.ones(shape=len(t1_hgg), dtype=int)\n",
    "t1_lgg_y = np.zeros(shape=len(t1_lgg), dtype=int)\n",
    "\n",
    "X = np.array(t1_hgg + t1_lgg)\n",
    "y = np.array(list(t1_hgg_y) + list(t1_lgg_y))"
   ]
  },
  {
   "cell_type": "code",
   "execution_count": 5,
   "metadata": {},
   "outputs": [
    {
     "data": {
      "text/plain": [
       "0.7724550898203593"
      ]
     },
     "execution_count": 5,
     "metadata": {},
     "output_type": "execute_result"
    }
   ],
   "source": [
    "# % of Data that's Target: 1 (HGG)\n",
    "sum(y) / len(y)"
   ]
  },
  {
   "cell_type": "code",
   "execution_count": 6,
   "metadata": {},
   "outputs": [],
   "source": [
    "# Train-test splitting; unbalanced classes so stratify on y\n",
    "X_train, X_test, y_train, y_test = train_test_split(X,y,\n",
    "                                                   stratify=y)"
   ]
  },
  {
   "cell_type": "code",
   "execution_count": 7,
   "metadata": {},
   "outputs": [
    {
     "data": {
      "text/plain": [
       "(250, 240, 240, 155)"
      ]
     },
     "execution_count": 7,
     "metadata": {},
     "output_type": "execute_result"
    }
   ],
   "source": [
    "# Shape of training data\n",
    "X_train.shape"
   ]
  },
  {
   "cell_type": "code",
   "execution_count": 8,
   "metadata": {},
   "outputs": [
    {
     "data": {
      "text/plain": [
       "(84, 240, 240, 155)"
      ]
     },
     "execution_count": 8,
     "metadata": {},
     "output_type": "execute_result"
    }
   ],
   "source": [
    "# Shape of testing data\n",
    "X_test.shape"
   ]
  },
  {
   "cell_type": "code",
   "execution_count": 9,
   "metadata": {},
   "outputs": [],
   "source": [
    "# Input shape for Conv3D has to be 5D tesnor with\n",
    "# shape (batch, dim1, dim2, dim3, channels)\n",
    "X_train = X_train.reshape(X_train.shape[0], 240, 240, 155, 1) \n",
    "X_test = X_test.reshape(X_test.shape[0], 240, 240, 155, 1)"
   ]
  },
  {
   "cell_type": "code",
   "execution_count": 10,
   "metadata": {},
   "outputs": [],
   "source": [
    "# Target array has to be categorical for Conv3D\n",
    "y_train = utils.to_categorical(y_train) \n",
    "y_test = utils.to_categorical(y_test)"
   ]
  },
  {
   "cell_type": "code",
   "execution_count": 12,
   "metadata": {
    "scrolled": true
   },
   "outputs": [
    {
     "name": "stdout",
     "output_type": "stream",
     "text": [
      "WARNING:tensorflow:From /Users/Work/anaconda3/lib/python3.7/site-packages/tensorflow_core/python/ops/resource_variable_ops.py:1630: calling BaseResourceVariable.__init__ (from tensorflow.python.ops.resource_variable_ops) with constraint is deprecated and will be removed in a future version.\n",
      "Instructions for updating:\n",
      "If using Keras pass *_constraint arguments to layers.\n"
     ]
    }
   ],
   "source": [
    "# REALLY BASIC 3D-CNN\n",
    "# Hardware limitation; Google Compute Engine configurations didn't work\n",
    "# Once GCE configs. figured out, can make more complex model\n",
    "\n",
    "# 2 Conv3D Layers, 1 Dense Layer\n",
    "\n",
    "cnn = Sequential()\n",
    "\n",
    "cnn.add(Conv3D(\n",
    "    filters=6,\n",
    "    kernel_size=(3,3,3), # height/width of filter\n",
    "    activation='relu',\n",
    "    input_shape=(240, 240, 155, 1)))\n",
    "\n",
    "cnn.add(MaxPooling3D(\n",
    "    pool_size=(2,2,2)\n",
    "))\n",
    "\n",
    "cnn.add(Conv3D(\n",
    "    filters= 16,\n",
    "    kernel_size= (3,3,3),\n",
    "    activation='relu'\n",
    "))\n",
    "\n",
    "cnn.add(MaxPooling3D(\n",
    "    pool_size=(2,2,2)\n",
    "))\n",
    "\n",
    "cnn.add(Flatten())\n",
    "\n",
    "cnn.add(Dense(\n",
    "    units=128,\n",
    "    activation='relu'\n",
    "))\n",
    "\n",
    "# Output Layer\n",
    "cnn.add(Dense(\n",
    "    units=2,\n",
    "    activation='softmax'\n",
    "))\n",
    "\n",
    "cnn.compile(\n",
    "    loss='categorical_crossentropy',\n",
    "    optimizer='adam',\n",
    "    metrics=['accuracy']\n",
    ")"
   ]
  },
  {
   "cell_type": "code",
   "execution_count": 13,
   "metadata": {},
   "outputs": [
    {
     "name": "stdout",
     "output_type": "stream",
     "text": [
      "Train on 250 samples, validate on 84 samples\n",
      "Epoch 1/3\n",
      "250/250 [==============================] - 31594s 126s/sample - loss: 67.3403 - acc: 0.5280 - val_loss: 37.0916 - val_acc: 0.7738\n",
      "Epoch 2/3\n",
      "250/250 [==============================] - 32567s 130s/sample - loss: 7.3920 - acc: 0.7120 - val_loss: 2.3620 - val_acc: 0.7738\n",
      "Epoch 3/3\n",
      "250/250 [==============================] - 28437s 114s/sample - loss: 0.5137 - acc: 0.8120 - val_loss: 0.9381 - val_acc: 0.7738\n"
     ]
    }
   ],
   "source": [
    "# Fitting model with only 3 epochs -- hardware limitation\n",
    "history = cnn.fit(np.array(X_train), y_train,\n",
    "                 batch_size=32,\n",
    "                 validation_data=(np.array(X_test), y_test),\n",
    "                 epochs=3,\n",
    "                 verbose=1)"
   ]
  },
  {
   "cell_type": "code",
   "execution_count": 18,
   "metadata": {},
   "outputs": [],
   "source": [
    "# Saving the model that was fitted above\n",
    "# cnn.save(filepath='./pickles/01_model.h5')"
   ]
  },
  {
   "cell_type": "code",
   "execution_count": 11,
   "metadata": {},
   "outputs": [
    {
     "data": {
      "image/png": "[encoded data removed]",
      "text/plain": [
       "<Figure size 864x576 with 1 Axes>"
      ]
     },
     "metadata": {
      "needs_background": "light"
     },
     "output_type": "display_data"
    }
   ],
   "source": [
    "# Check out our train loss and test loss over epochs.\n",
    "x_loss = [1, 2, 3]\n",
    "train_loss = [67.3403, 7.3920, 0.5137]\n",
    "test_loss = [37.0916, 2.3620, 0.9381]\n",
    "\n",
    "# Set figure size.\n",
    "plt.figure(figsize=(12, 8))\n",
    "\n",
    "# Generate line plot of training, testing loss over epochs.\n",
    "plt.plot(x_loss, train_loss, label='Training Loss', color='#185fad')\n",
    "plt.plot(x_loss, test_loss, label='Testing Loss', color='orange')\n",
    "\n",
    "# Set title\n",
    "plt.title('Training and Testing Loss by Epoch', fontsize = 25)\n",
    "plt.xlabel('Epoch', fontsize = 18)\n",
    "plt.ylabel('Categorical Crossentropy Loss', fontsize = 18)\n",
    "plt.xticks([1, 2, 3, 4, 5])\n",
    "plt.legend(fontsize = 18);"
   ]
  },
  {
   "cell_type": "code",
   "execution_count": 10,
   "metadata": {},
   "outputs": [
    {
     "data": {
      "image/png": "[encoded data removed]",
      "text/plain": [
       "<Figure size 864x576 with 1 Axes>"
      ]
     },
     "metadata": {
      "needs_background": "light"
     },
     "output_type": "display_data"
    }
   ],
   "source": [
    "# Check out our train loss and test loss over epochs.\n",
    "x_acc = [1, 2, 3]\n",
    "train_acc = [0.5280, 0.7120, 0.8120]\n",
    "test_acc = [0.7738, 0.7738, 0.7738]\n",
    "\n",
    "# Set figure size.\n",
    "plt.figure(figsize=(12, 8))\n",
    "\n",
    "# Generate line plot of training, testing loss over epochs.\n",
    "plt.plot(x_acc, train_acc, label='Training Acc.', color='#185fad')\n",
    "plt.plot(x_acc, test_acc, label='Testing Acc.', color='orange')\n",
    "\n",
    "# Set title\n",
    "plt.title('Training and Testing Accuracy by Epoch', fontsize = 25)\n",
    "plt.xlabel('Epoch', fontsize = 18)\n",
    "plt.ylabel('Accuracy', fontsize = 18)\n",
    "plt.xticks([1, 2, 3, 4, 5])\n",
    "plt.legend(fontsize = 18);"
   ]
  },
  {
   "cell_type": "markdown",
   "metadata": {},
   "source": [
    "## T1 & T2 MRI\n",
    "- Using GCP's Compute Engine with a VM instance of 4CPUs/256GB RAM.\n",
    "- Attempted to use GPUs but had some conflicts with NVIDIA drivers and CUDA.\n",
    "- Will expand neural network further once NVIDIA and CUDA configurations work."
   ]
  },
  {
   "cell_type": "code",
   "execution_count": 6,
   "metadata": {},
   "outputs": [
    {
     "name": "stdout",
     "output_type": "stream",
     "text": [
      "100 out of 1032\n",
      "200 out of 1032\n",
      "300 out of 1032\n",
      "400 out of 1032\n",
      "500 out of 1032\n",
      "600 out of 1032\n",
      "700 out of 1032\n",
      "800 out of 1032\n",
      "900 out of 1032\n",
      "1000 out of 1032\n",
      "1032 out of 1032\n"
     ]
    }
   ],
   "source": [
    "# Bringing in only arrays of HGG T1 & T2 MRI images\n",
    "t1_t2_hgg = []\n",
    "counter = 0\n",
    "\n",
    "for file in os.listdir('./bet_processed/'):\n",
    "    counter += 1\n",
    "    if counter%100 == 0 or counter == len(os.listdir('./bet_processed/'))-1:\n",
    "        print(f\"{counter} out of {len(os.listdir('./bet_processed/'))-1}\")\n",
    "              \n",
    "    if file.endswith('t1_n4_bet.nii.gz') or file.endswith('t2_n4_bet.nii.gz'):\n",
    "        file_path = './bet_processed/' + file\n",
    "        img = nib.load(file_path)\n",
    "        array_flat = img.get_data() / 255\n",
    "        t1_t2_hgg.append(array_flat)"
   ]
  },
  {
   "cell_type": "code",
   "execution_count": 7,
   "metadata": {},
   "outputs": [
    {
     "name": "stdout",
     "output_type": "stream",
     "text": [
      "100 out of 303\n",
      "200 out of 303\n",
      "300 out of 303\n",
      "303 out of 303\n"
     ]
    }
   ],
   "source": [
    "# Bringing in only arrays of LGG T1 & T2 MRI images\n",
    "t1_t2_lgg = []\n",
    "counter = 0\n",
    "\n",
    "for file in os.listdir('./lgg_bet_processed/'):\n",
    "    counter += 1\n",
    "    if counter%100 == 0 or counter == len(os.listdir('./lgg_bet_processed/'))-1:\n",
    "        print(f\"{counter} out of {len(os.listdir('./lgg_bet_processed/'))-1}\")\n",
    "              \n",
    "    if file.endswith('t1_n4_bet.nii.gz') or file.endswith('t2_n4_bet.nii.gz'):\n",
    "        file_path = './lgg_bet_processed/' + file\n",
    "        img = nib.load(file_path)\n",
    "        array_flat = img.get_data() / 255\n",
    "        t1_t2_lgg.append(array_flat)"
   ]
  },
  {
   "cell_type": "code",
   "execution_count": 8,
   "metadata": {},
   "outputs": [],
   "source": [
    "# Setting X and y for neural network\n",
    "t1_t2_hgg_y = np.ones(shape=len(t1_t2_hgg), dtype=int)\n",
    "t1_t2_lgg_y = np.zeros(shape=len(t1_t2_lgg), dtype=int)\n",
    "\n",
    "X = np.array(t1_t2_hgg + t1_t2_lgg)\n",
    "y = np.array(list(t1_t2_hgg_y) + list(t1_t2_lgg_y))"
   ]
  },
  {
   "cell_type": "code",
   "execution_count": 9,
   "metadata": {},
   "outputs": [
    {
     "data": {
      "text/plain": [
       "0.7724550898203593"
      ]
     },
     "execution_count": 9,
     "metadata": {},
     "output_type": "execute_result"
    }
   ],
   "source": [
    "# % of Data that's Target: 1 (HGG)\n",
    "sum(y) / len(y)"
   ]
  },
  {
   "cell_type": "code",
   "execution_count": 10,
   "metadata": {},
   "outputs": [],
   "source": [
    "# Train test splitting; unbalanced classes so stratify on y\n",
    "X_train, X_test, y_train, y_test = train_test_split(X,y,\n",
    "                                                   stratify=y)"
   ]
  },
  {
   "cell_type": "code",
   "execution_count": 11,
   "metadata": {},
   "outputs": [
    {
     "data": {
      "text/plain": [
       "(501, 240, 240, 155)"
      ]
     },
     "execution_count": 11,
     "metadata": {},
     "output_type": "execute_result"
    }
   ],
   "source": [
    "# Shape of training data\n",
    "X_train.shape"
   ]
  },
  {
   "cell_type": "code",
   "execution_count": 12,
   "metadata": {},
   "outputs": [
    {
     "data": {
      "text/plain": [
       "(167, 240, 240, 155)"
      ]
     },
     "execution_count": 12,
     "metadata": {},
     "output_type": "execute_result"
    }
   ],
   "source": [
    "# Shape of testing data\n",
    "X_test.shape"
   ]
  },
  {
   "cell_type": "code",
   "execution_count": 13,
   "metadata": {},
   "outputs": [],
   "source": [
    "# Input shape for Conv3D has to be 5D tesnor with\n",
    "# shape (batch, dim1, dim2, dim3, channels)\n",
    "X_train = X_train.reshape(X_train.shape[0], 240, 240, 155, 1) \n",
    "X_test = X_test.reshape(X_test.shape[0], 240, 240, 155, 1)"
   ]
  },
  {
   "cell_type": "code",
   "execution_count": 14,
   "metadata": {},
   "outputs": [],
   "source": [
    "# Target array has to be categorical for Conv3D\n",
    "y_train = utils.to_categorical(y_train) \n",
    "y_test = utils.to_categorical(y_test)"
   ]
  },
  {
   "cell_type": "code",
   "execution_count": 15,
   "metadata": {
    "scrolled": true
   },
   "outputs": [
    {
     "name": "stdout",
     "output_type": "stream",
     "text": [
      "WARNING:tensorflow:From /home/aerikajs/anaconda3/envs/env2/lib/python3.6/site-packages/tensorflow/python/ops/init_ops.py:1251: calling VarianceScaling.__init__ (from tensorflow.python.ops.init_ops) with dtype is deprecated and will be removed in a future version.\n",
      "Instructions for updating:\n",
      "Call initializer instance with the dtype argument instead of passing it to the constructor\n"
     ]
    }
   ],
   "source": [
    "# REALLY BASIC 3D-CNN\n",
    "# Hardware limitation; Google Compute Engine configurations didn't work\n",
    "# Once GCE configs. figured out, can make more complex model\n",
    "\n",
    "# 2 Conv3D Layers, 1 Dense Layer\n",
    "\n",
    "cnn = Sequential()\n",
    "\n",
    "cnn.add(Conv3D(\n",
    "    filters=6,\n",
    "    kernel_size=(3,3,3), # height/width of filter\n",
    "    activation='relu',\n",
    "    input_shape=(240, 240, 155, 1)))\n",
    "\n",
    "cnn.add(MaxPooling3D(\n",
    "    pool_size=(2,2,2)\n",
    "))\n",
    "\n",
    "cnn.add(Conv3D(\n",
    "    filters= 16,\n",
    "    kernel_size= (3,3,3),\n",
    "    activation='relu'\n",
    "))\n",
    "\n",
    "cnn.add(MaxPooling3D(\n",
    "    pool_size=(2,2,2)\n",
    "))\n",
    "\n",
    "cnn.add(Flatten())\n",
    "\n",
    "cnn.add(Dense(\n",
    "    units=128,\n",
    "    activation='relu'\n",
    "))\n",
    "\n",
    "# Output Layer\n",
    "cnn.add(Dense(\n",
    "    units=2,\n",
    "    activation='softmax'\n",
    "))\n",
    "\n",
    "cnn.compile(\n",
    "    loss='categorical_crossentropy',\n",
    "    optimizer='adam',\n",
    "    metrics=['accuracy']\n",
    ")"
   ]
  },
  {
   "cell_type": "code",
   "execution_count": 16,
   "metadata": {},
   "outputs": [
    {
     "name": "stdout",
     "output_type": "stream",
     "text": [
      "Train on 501 samples, validate on 167 samples\n",
      "Epoch 1/3\n",
      "501/501 [==============================] - 9171s 18s/sample - loss: 42.9480 - acc: 0.4750 - val_loss: 0.6871 - val_acc: 0.6228\n",
      "Epoch 2/3\n",
      "501/501 [==============================] - 9169s 18s/sample - loss: 1.0852 - acc: 0.7285 - val_loss: 0.6852 - val_acc: 0.7725\n",
      "Epoch 3/3\n",
      "501/501 [==============================] - 9046s 18s/sample - loss: 0.6819 - acc: 0.7725 - val_loss: 0.6788 - val_acc: 0.7725\n"
     ]
    }
   ],
   "source": [
    "# Fitting model with only 3 epochs, 4 workers -- hardware limitation\n",
    "history = cnn.fit(np.array(X_train), y_train,\n",
    "                 batch_size=32,\n",
    "                 validation_data=(np.array(X_test), y_test),\n",
    "                 epochs=3,\n",
    "                 verbose=1,\n",
    "                 workers = 4)"
   ]
  },
  {
   "cell_type": "code",
   "execution_count": 17,
   "metadata": {},
   "outputs": [],
   "source": [
    "# Saving the model that was fitted above\n",
    "# cnn.save(filepath='./t1_t2_model.h5')"
   ]
  },
  {
   "cell_type": "code",
   "execution_count": 24,
   "metadata": {
    "scrolled": false
   },
   "outputs": [
    {
     "data": {
      "image/png": "[encoded data removed]",
      "text/plain": [
       "<Figure size 864x576 with 1 Axes>"
      ]
     },
     "metadata": {
      "needs_background": "light"
     },
     "output_type": "display_data"
    }
   ],
   "source": [
    "# Check out our train loss and test loss over epochs.\n",
    "train_loss = history.history['loss']\n",
    "test_loss = history.history['val_loss']\n",
    "\n",
    "# Set figure size.\n",
    "plt.figure(figsize=(12, 8))\n",
    "\n",
    "# Generate line plot of training, testing loss over epochs.\n",
    "plt.plot(train_loss, label='Training Loss', color='#185fad')\n",
    "plt.plot(test_loss, label='Testing Loss', color='orange')\n",
    "\n",
    "# Set title\n",
    "plt.title('Training and Testing Loss by Epoch', fontsize = 25)\n",
    "plt.xlabel('Epoch', fontsize = 18)\n",
    "plt.ylabel('Categorical Crossentropy Loss', fontsize = 18)\n",
    "plt.xticks([0, 1, 2, 3, 4], [1, 2, 3, 4, 5])\n",
    "plt.legend(fontsize = 18);"
   ]
  },
  {
   "cell_type": "markdown",
   "metadata": {},
   "source": [
    "The graph above shows the training and testing loss at each epoch. After the first epoch, the loss scores are decreasing for both the training and testing data."
   ]
  },
  {
   "cell_type": "code",
   "execution_count": 25,
   "metadata": {
    "scrolled": false
   },
   "outputs": [
    {
     "data": {
      "image/png": "[encoded data removed]",
      "text/plain": [
       "<Figure size 864x576 with 1 Axes>"
      ]
     },
     "metadata": {
      "needs_background": "light"
     },
     "output_type": "display_data"
    }
   ],
   "source": [
    "# Check out our train loss and test accuracy over epochs.\n",
    "train_loss = history.history['acc']\n",
    "test_loss = history.history['val_acc']\n",
    "\n",
    "# Set figure size.\n",
    "plt.figure(figsize=(12, 8))\n",
    "\n",
    "# Generate line plot of training, testing accuracy over epochs.\n",
    "plt.plot(train_loss, label='Training Accuracy', color='#185fad')\n",
    "plt.plot(test_loss, label='Testing Accuracy', color='orange')\n",
    "\n",
    "# Set title\n",
    "plt.title('Training and Testing Acc. by Epoch', fontsize = 25)\n",
    "plt.xlabel('Epoch', fontsize = 18)\n",
    "plt.ylabel('Accuracy', fontsize = 18)\n",
    "plt.xticks([0, 1, 2, 3, 4], [1, 2, 3, 4, 5])\n",
    "plt.legend(fontsize = 18);"
   ]
  },
  {
   "cell_type": "markdown",
   "metadata": {},
   "source": [
    "The graph above shows the training and testing accuracy at each epoch. After the first epoch, the accuracy scores are increasing for both the training and testing data."
   ]
  },
  {
   "cell_type": "code",
   "execution_count": null,
   "metadata": {},
   "outputs": [],
   "source": [
    "# # **Modeling on GPU code**\n",
    "# # This code had trouble running due to Keras not detecting XLA_GPUs as GPUs.\n",
    "# # Need to make more hardware configurations/installations before running on GPUs\n",
    "\n",
    "# # Replicates `model` on 2 GPUs.\n",
    "# # This assumes that your machine has 2 available GPUs.\n",
    "# parallel_model = multi_gpu_model(cnn, gpus=2)\n",
    "# parallel_model.compile(loss='categorical_crossentropy',\n",
    "#                        optimizer='adam',\n",
    "#                       metrics = ['accuracy'])\n",
    "\n",
    "\n",
    "# # This `fit` call will be distributed on 2 GPUs.\n",
    "# # Since the batch size is 32, each GPU will process 16 samples.\n",
    "# history = parallel_model.fit(np.array(X_train), y_train,\n",
    "#                              batch_size=32,\n",
    "#                              validation_data=(np.array(X_test), y_test),\n",
    "#                              epochs=3,\n",
    "#                              verbose=1)"
   ]
  },
  {
   "cell_type": "markdown",
   "metadata": {},
   "source": [
    "## T1, T1ce, T2, FLAIR MRI Types\n",
    "- *Note*: This model was not performed due to hardware limitations, once GPU configurations are figured out on Google Compute Engine, this section will be run and complexity of neural network will be adjusted accordingly.\n",
    "- If model with T1 & T2 MRIs proves to be better than a model with only T1 MRIs, this section will be attempted to see how well the accuracy is.\n",
    "- If Model T1 & T2 is worse than T1 Model, will make a separate neural network for each MRI type instead."
   ]
  },
  {
   "cell_type": "code",
   "execution_count": null,
   "metadata": {
    "scrolled": true
   },
   "outputs": [],
   "source": [
    "# Bringing in arrays of all HGG MRI images\n",
    "hgg_img_data_train = []\n",
    "counter = 0\n",
    "\n",
    "for file in os.listdir('./data/bet_processed/'):\n",
    "    if file.endswith('.nii.gz'):\n",
    "        file_path = './data/bet_processed/' + file\n",
    "        img = nib.load(file_path)\n",
    "        array_flat = img.get_data() / 255\n",
    "        hgg_img_data_train.append(array_flat)\n",
    "        \n",
    "        counter += 1\n",
    "        if counter%100 == 0:\n",
    "            print(f\"{counter} out of {len(os.listdir('./data/bet_processed/'))-1}\")"
   ]
  },
  {
   "cell_type": "code",
   "execution_count": null,
   "metadata": {},
   "outputs": [],
   "source": [
    "# Bringing in arrays of all LGG MRI images\n",
    "lgg_img_data_train = []\n",
    "counter = 0\n",
    "\n",
    "for file in os.listdir('./data/lgg_bet_processed/'):\n",
    "    if file.endswith('.nii.gz'):\n",
    "        file_path = './data/lgg_bet_processed/' + file\n",
    "        img = nib.load(file_path)\n",
    "        array_flat = img.get_data() / 255\n",
    "        lgg_img_data_train.append(array_flat)\n",
    "        \n",
    "        counter += 1\n",
    "        if counter%100 == 0:\n",
    "            print(f\"{counter} out of {len(os.listdir('./data/lgg_bet_processed/'))-1}\")"
   ]
  },
  {
   "cell_type": "code",
   "execution_count": null,
   "metadata": {},
   "outputs": [],
   "source": [
    "# Setting X and y for neural network\n",
    "\n",
    "t1_hgg_y = np.ones(shape=len(t1_hgg), dtype=int)\n",
    "t1_lgg_y = np.zeros(shape=len(t1_lgg), dtype=int)\n",
    "\n",
    "X = np.array(t1_hgg + t1_lgg)\n",
    "y = np.array(list(t1_hgg_y) + list(t1_lgg_y))"
   ]
  },
  {
   "cell_type": "code",
   "execution_count": null,
   "metadata": {},
   "outputs": [],
   "source": [
    "# % of Data that's Target: 1 (HGG)\n",
    "sum(y) / len(y)"
   ]
  },
  {
   "cell_type": "code",
   "execution_count": null,
   "metadata": {},
   "outputs": [],
   "source": [
    "# Train-test splitting; unbalanced classes so stratify on y\n",
    "X_train, X_test, y_train, y_test = train_test_split(X,y,\n",
    "                                                   stratify=y)"
   ]
  },
  {
   "cell_type": "code",
   "execution_count": null,
   "metadata": {},
   "outputs": [],
   "source": [
    "# Shape of training data\n",
    "X_train.shape"
   ]
  },
  {
   "cell_type": "code",
   "execution_count": null,
   "metadata": {},
   "outputs": [],
   "source": [
    "# Shape of testing data\n",
    "X_test.shape"
   ]
  },
  {
   "cell_type": "code",
   "execution_count": null,
   "metadata": {},
   "outputs": [],
   "source": [
    "# Input shape for Conv3D has to be 5D tesnor with\n",
    "# shape (batch, dim1, dim2, dim3, channels)\n",
    "X_train = X_train.reshape(X_train.shape[0], 240, 240, 155, 1) \n",
    "X_test = X_test.reshape(X_test.shape[0], 240, 240, 155, 1)"
   ]
  },
  {
   "cell_type": "code",
   "execution_count": null,
   "metadata": {},
   "outputs": [],
   "source": [
    "# Target array has to be categorical for Conv3D\n",
    "y_train = utils.to_categorical(y_train) \n",
    "y_test = utils.to_categorical(y_test)"
   ]
  },
  {
   "cell_type": "code",
   "execution_count": null,
   "metadata": {
    "scrolled": true
   },
   "outputs": [],
   "source": [
    "# REALLY BASIC 3D-CNN\n",
    "# Hardware limitation; Google Compute Engine configurations didn't work\n",
    "# Once GCE configs. figured out, can make more complex model\n",
    "\n",
    "# 2 Conv3D Layers, 1 Dense Layer\n",
    "\n",
    "cnn = Sequential()\n",
    "\n",
    "cnn.add(Conv3D(\n",
    "    filters=6,\n",
    "    kernel_size=(3,3,3), # height/width of filter\n",
    "    activation='relu',\n",
    "    input_shape=(240, 240, 155, 1)))\n",
    "\n",
    "cnn.add(MaxPooling3D(\n",
    "    pool_size=(2,2,2)\n",
    "))\n",
    "\n",
    "cnn.add(Conv3D(\n",
    "    filters= 16,\n",
    "    kernel_size= (3,3,3),\n",
    "    activation='relu'\n",
    "))\n",
    "\n",
    "cnn.add(MaxPooling3D(\n",
    "    pool_size=(2,2,2)\n",
    "))\n",
    "\n",
    "cnn.add(Flatten())\n",
    "\n",
    "cnn.add(Dense(\n",
    "    units=128,\n",
    "    activation='relu'\n",
    "))\n",
    "\n",
    "# Output Layer\n",
    "cnn.add(Dense(\n",
    "    units=2,\n",
    "    activation='softmax'\n",
    "))\n",
    "\n",
    "cnn.compile(\n",
    "    loss='categorical_crossentropy',\n",
    "    optimizer='adam',\n",
    "    metrics=['accuracy']\n",
    ")"
   ]
  },
  {
   "cell_type": "code",
   "execution_count": null,
   "metadata": {},
   "outputs": [],
   "source": [
    "# Fitting model with only 3 epochs -- hardware limitation\n",
    "history = cnn.fit(np.array(X_train), y_train,\n",
    "                 batch_size=32,\n",
    "                 validation_data=(np.array(X_test), y_test),\n",
    "                 epochs=3,\n",
    "                 verbose=1)"
   ]
  },
  {
   "cell_type": "code",
   "execution_count": null,
   "metadata": {},
   "outputs": [],
   "source": [
    "# Saving the model that was fitted above\n",
    "# cnn.save(filepath='./pickles/all_model.h5')"
   ]
  }
 ],
 "metadata": {
  "kernelspec": {
   "display_name": "Python 3",
   "language": "python",
   "name": "python3"
  },
  "language_info": {
   "codemirror_mode": {
    "name": "ipython",
    "version": 3
   },
   "file_extension": ".py",
   "mimetype": "text/x-python",
   "name": "python",
   "nbconvert_exporter": "python",
   "pygments_lexer": "ipython3",
   "version": "3.7.3"
  }
 },
 "nbformat": 4,
 "nbformat_minor": 2
}
