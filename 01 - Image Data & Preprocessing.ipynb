{
 "cells": [
  {
   "cell_type": "code",
   "execution_count": 1,
   "metadata": {},
   "outputs": [
    {
     "name": "stderr",
     "output_type": "stream",
     "text": [
      "/Users/Work/anaconda3/lib/python3.7/site-packages/sklearn/externals/joblib/__init__.py:15: DeprecationWarning: sklearn.externals.joblib is deprecated in 0.21 and will be removed in 0.23. Please import this functionality directly from joblib, which can be installed with: pip install joblib. If this warning is raised when loading pickled models, you may need to re-serialize those models with scikit-learn 0.21+.\n",
      "  warnings.warn(msg, category=DeprecationWarning)\n"
     ]
    }
   ],
   "source": [
    "import os\n",
    "import numpy as np\n",
    "import pandas as pd\n",
    "import nibabel as nib\n",
    "\n",
    "from nilearn import plotting"
   ]
  },
  {
   "cell_type": "markdown",
   "metadata": {},
   "source": [
    "# High-Grade Gliomas (HGG)\n",
    "- Gliomas are tumors.\n",
    "- HGG are tumors that grow at a high rate."
   ]
  },
  {
   "cell_type": "code",
   "execution_count": 22,
   "metadata": {},
   "outputs": [],
   "source": [
    "# HGG Train\n",
    "# Creating folder path for each folder in directory\n",
    "folder_contents_path = [('data/MICCAI_BraTS_2019_Data_Training/HGG/' + str(file_name)) for file_name in os.listdir('data/MICCAI_BraTS_2019_Data_Training/HGG') if 'BraTS19' in file_name]"
   ]
  },
  {
   "cell_type": "code",
   "execution_count": 30,
   "metadata": {},
   "outputs": [],
   "source": [
    "# Getting all image data from HGG Training\n",
    "hgg_img_data_train = []\n",
    "\n",
    "for folder_path in folder_contents_path:\n",
    "    for file in os.listdir(folder_path):\n",
    "        file_path = folder_path + '/' + str(file)\n",
    "        \n",
    "        if '.nii.gz' in file_path:\n",
    "            img = nib.load(file_path)\n",
    "            hgg_img_data_train.append(img.get_data())"
   ]
  },
  {
   "cell_type": "code",
   "execution_count": 33,
   "metadata": {},
   "outputs": [],
   "source": [
    "# To see what my list looks like, delete when complete\n",
    "# hgg_img_data_train"
   ]
  },
  {
   "cell_type": "markdown",
   "metadata": {},
   "source": [
    "# Low-Grade Gliomas (LGG)\n",
    "- Gliomas are tumors.\n",
    "- LGG are tumors that grow at a slow rate."
   ]
  },
  {
   "cell_type": "code",
   "execution_count": 24,
   "metadata": {
    "scrolled": true
   },
   "outputs": [],
   "source": [
    "# LGG Train\n",
    "# Creating folder path for each folder in directory\n",
    "folder_contents_path2 = [('data/MICCAI_BraTS_2019_Data_Training/LGG/' + str(file_name)) for file_name in os.listdir('data/MICCAI_BraTS_2019_Data_Training/LGG') if 'BraTS19' in file_name]\n",
    "\n",
    "\n",
    "# Getting all image data from LGG Training\n",
    "lgg_img_data_train = []\n",
    "\n",
    "for folder_path in folder_contents_path2:\n",
    "    for file in os.listdir(folder_path):\n",
    "        file_path = folder_path + '/' + str(file)\n",
    "        \n",
    "        if '.nii.gz' in file_path:\n",
    "            img = nib.load(file_path)\n",
    "            lgg_img_data_train.append(img.get_data())"
   ]
  },
  {
   "cell_type": "code",
   "execution_count": 29,
   "metadata": {},
   "outputs": [],
   "source": [
    "# To see what my list looks like, delete when complete\n",
    "# lgg_img_data_train"
   ]
  },
  {
   "cell_type": "code",
   "execution_count": 32,
   "metadata": {
    "scrolled": true
   },
   "outputs": [
    {
     "name": "stdout",
     "output_type": "stream",
     "text": [
      " Length of HGG Train List: 1295\n",
      " Length of LGG Train List: 380\n"
     ]
    }
   ],
   "source": [
    "# Length of each list\n",
    "\n",
    "print(f' Length of HGG Train List: {len(hgg_img_data_train)}')\n",
    "print(f' Length of LGG Train List: {len(lgg_img_data_train)}')"
   ]
  },
  {
   "cell_type": "code",
   "execution_count": null,
   "metadata": {},
   "outputs": [],
   "source": []
  }
 ],
 "metadata": {
  "kernelspec": {
   "display_name": "Python 3",
   "language": "python",
   "name": "python3"
  },
  "language_info": {
   "codemirror_mode": {
    "name": "ipython",
    "version": 3
   },
   "file_extension": ".py",
   "mimetype": "text/x-python",
   "name": "python",
   "nbconvert_exporter": "python",
   "pygments_lexer": "ipython3",
   "version": "3.7.3"
  }
 },
 "nbformat": 4,
 "nbformat_minor": 2
}
